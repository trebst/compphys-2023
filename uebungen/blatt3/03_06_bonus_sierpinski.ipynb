{
 "cells": [
  {
   "cell_type": "markdown",
   "id": "8f051e5f",
   "metadata": {},
   "source": [
    "<table style=\"width: 100%; border-style: none\">\n",
    "<tr style=\"border-style: none; background-color: #82a8cf\">\n",
    "<td style=\"border-style: none; width: 1%; text-align: left; font-size: 18px; color: #ffffff\">Institut f&uuml;r Theoretische Physik<br /> <font color=\"#e6e6e6\">Universit&auml;t zu K&ouml;ln </font></td>\n",
    "<td style=\"border-style: none; width: 1%; font-size: 16px\">&nbsp;</td>\n",
    "<td style=\"border-style: none; width: 1%; text-align: right; font-size: 18px; color: #ffffff\">Prof. Dr. Simon Trebst<br /> <font color=\"#e6e6e6\"> Christoph Berke </font> </td>\n",
    "</tr>\n",
    "</table>\n",
    "<hr  style=\"height: 2px; border-color: #606060; background-color: #606060\"> \n",
    "<h1 style=\"font-weight:200; text-align: center; margin: 0px; font-size: 48px; padding:0px; color: #606060\">Computer-Physik </h1>\n",
    "<h1 style=\"font-weight:light; text-align: center; margin: 10px; padding:0px; color: #606060\">&Uuml;bungsblatt 3</h1>\n",
    "<hr  style=\"height: 2px; border-color: #606060; background-color: #606060\"> \n",
    "<h3 style=\"font-weight:400; text-align: center; margin: 0px; font-size: 20px; padding:0px; margin-bottom: 20px; color: #606060\">Sommersemester 2023</h3>\n",
    "<!--<h3 style=\"font-weight:bold; text-align: center; margin: 0px; font-size: 15px; padding:0px; margin-bottom: 20px;\">Website: <a href=\"https://www.thp.uni-koeln.de/trebst/Lectures/2023-CompPhys.shtml\" style=\"color:#82a8cf; text-decoration: underline;text-decoration-style: dotted;\">https://www.thp.uni-koeln.de/trebst/Lectures/2023-CompPhys.shtml</a></h3> -->\n",
    "\n",
    "<font size=\"4\" color=\"#606060\">**Website:** <a href=\"https://www.thp.uni-koeln.de/trebst/Lectures/2023-CompPhys.shtml\" style=\"color:#82a8cf; text-decoration: underline;text-decoration-style: dotted;\">https://www.thp.uni-koeln.de/trebst/Lectures/2023-CompPhys.shtml</a></font>\n",
    "\n",
    "<font size=\"4\" color=\"#606060\">**Abgabe**: <span style=\"color:#82a8cf\"> 17.4.2023, 12:00 Uhr </span> <span style=\"float:right;\">**Besprechung**: 19.4.2023 - 21.4.2023.</span></font>\n",
    "\n",
    "<font size=\"4\" color=\"#606060\">**Name**: <span style=\"color:#82a8cf\"> Bitte geben Sie Ihren Namen an.  </span> </font>"
   ]
  },
  {
   "cell_type": "markdown",
   "id": "1c4d3d31",
   "metadata": {},
   "source": [
    "<hr style=\"height:.3px\"> \n",
    "\n",
    "<span style=\"color:#606060; font-weight:bold; font-size:20px\"> Aufgaben auf Übungsblatt 3</span>\n",
    "- <span style=\"color:#606060; font-weight:light; font-size:14px\"> Aufgabe 4: Alles über Primzahlen, Teil II [12 Punkte]</span>\n",
    "- <span style=\"color:#606060; font-weight:light; font-size:14px\">  Aufgabe 5: Seahorses reflecting elephants [8 Punkte]  </span>\n",
    "- <span style=\"color:#82a8cf; font-weight:bold; font-size:16px\">  Aufgabe 6 (Bonus): Das Sierpinski-Dreieck [14 Bonus-Punkte]  </span>\n",
    "\n",
    "\n",
    "\n",
    "<hr style=\"height:.3px\"> "
   ]
  },
  {
   "cell_type": "markdown",
   "id": "54a30460",
   "metadata": {},
   "source": [
    "<table style=\"border-style: none; width: 100%; background-color: #FFFFFF\"><tr style=\"border-style: none;\">\n",
    "<td style=\"border-style: none; width:1%; text-align: left; font-size: 25px; font-weight: 200;background-color: #FFFFFF\">Aufgabe 6: Das Sierpinski-Dreieck </td>\n",
    "<td style=\"border-style: none; width: 1%; text-align: right; font-size: 15px;background-color: #FFFFFF\">[14 Bonus-Punkte]</td></tr></table>"
   ]
  },
  {
   "cell_type": "markdown",
   "id": "0692791a",
   "metadata": {},
   "source": [
    "Das Sierpinski-Dreieck ist eine selbstähnliche geometrische Struktur in zwei Dimensionen. Ausgangspunkt ist ein meist gleichseitig gewähltes Dreieck. Man teilt das Dreieck in vier zueinander kongruente und zum Ausgangsdreieck ähnliche Dreiecke, deren Eckpunkte die Seitenmittelpunkte des Ausgangsdreiecks sind. Das mittlere Dreieck ist  nicht Teil des Fraktals, in den anderen Dreiecken wird der beschriebene Prozess wiederholt. Dann sind die äußeren Dreiecke verkleinerte Kopien der Gesamtstruktur. Das Sierpinski-Dreieck taucht in teils überraschenden\n",
    "Zusammenhängen auf. Zum Beispiel findet man dieses Muster auf dem Gehäuse der Schneckenart *Cymbiola innexa* wieder. Es spielt außerdem eine Rolle beim Design sogenannter [fraktaler Antennen](https://en.wikipedia.org/wiki/Fractal_antenna). Eine dreidimensionale Variante, das Sierpinski-Tetraeder, wird zum Beispiel ansatzweise vom Aussichtsturm Halde Beckstraße in Bottrop realisiert.\n",
    "\n",
    " <img src=\"https://www.thp.uni-koeln.de/trebst/Lectures/CompPhys-2023/sirp-bottrop-schnecke.pdf\" alt=\"Drawing\" style=\"width: 800px;\"/> \n",
    " \n",
    "In dieser Aufgabe betrachten wir das Sierpinski-Dreiecks in zwei unterschiedlichen Kontexten: In Teil a) sollen Sie das Konzept der **rekursiven Programmierung** benutzen um ein Sierpinski-Dreieck zu zeichnen. In Teil b) lernen wir das Sierpinski-Dreieck als eine Variante eines **zellulären Automaten** kennen. Mit solchen Gebilden werden wir im Laufe der Übungen noch mehr Bekanntschaft machen."
   ]
  },
  {
   "cell_type": "markdown",
   "id": "3fbe309b",
   "metadata": {},
   "source": [
    "### a) Rekursives Zeichnen\n",
    "Benutzen Sie die Selbstähnlichkeit des Sierpinski-Dreiecks und schreiben Sie eine Funktion, welche ein solches Gebilde zeichnet. Dabei sollen Sie wie folgt vorgehen:\n",
    "1. Untenstehend ist die Funktion `plot_dreieck` definiert, welche ein *normales* Dreieck durch die übergebenen Punkte `A`, `B` und `C` zeichnet.\n",
    "2. Sie definieren eine Funktion `plot_sierpinski_dreieck`, die ein *Sierpinski-Dreieck* durch übergebenen Punkte `A`, `B` und `C` bis zu einer maximalen Rekursionstiefe `n` zeichnet. Die Rekursionstiefe gibt an, wie oft die Funktion noch versucht in den Teildreiecken Sierpinski-Dreiecke zu zeichnen. Wird diese Funktion also mit einer Rekursionstiefe von `n=0` aufgerufen, zeichnet sie einfach ein Dreieck durch die Punkte. Ansonsten zeichnet sie ein Sierpinski-Dreieck in den drei untergeordneten Dreiecken (oben, links, rechts), allerdings mit *um 1 reduzierter Rekursionstiefe*. Die Abbildung unten zeigt die Figuren, die Sie mit den Rekursionstiefen 0 bis 3 erhalten sollten.\n",
    "\n",
    " <img src=\"https://www.thp.uni-koeln.de/trebst/Lectures/CompPhys-2023/sierpinski-crop.pdf\" alt=\"Drawing\" style=\"width: 800px;\"/> \n",
    " \n",
    " *Hinweis:* Bei der rekursiven Programmierung ruft sich eine Funktion selber wieder auf. Um zu verhindern, dass sich die Funktion unendlich oft wieder aufruft, muss eine Abbruchbedingung enthalten sein. Standardbeispiel ist die Berechnung der Fakultät. Betrachten Sie die folgende Definition: \n",
    " ```\n",
    "function factorial(n)\n",
    "        if n==0\n",
    "            return 1\n",
    "        else \n",
    "            return n * factorial(n-1)\n",
    "        end\n",
    "end\n",
    " ```\n",
    "Eine ähnliche Struktur sollte auch Ihre Funktion `plot_sierpinski_dreieck` haben. Wie oft muss Sich die Funktion selber aufrufen?"
   ]
  },
  {
   "cell_type": "code",
   "execution_count": null,
   "id": "a6cb4a0b",
   "metadata": {},
   "outputs": [],
   "source": [
    "# Funktion zeichnet Dreieck durch die Punkte A,B,C in die Axisumgebung axis\n",
    "function plot_dreieck(A,B,C, axis)\n",
    "    x_werte = [A[1], B[1], C[1], A[1]]\n",
    "    y_werte = [A[2], B[2], C[2], A[2]]\n",
    "    lines!(axis, x_werte, y_werte, color = :black, linewidth = 0.5)\n",
    "end\n",
    "\n",
    "# Funktion soll Sierpinski-Dreieck mit Rekursionstiefe n in Axisumgebung axis zeichnen.\n",
    "function plot_sierpinski_dreieck(A,B,C, n, axis)\n",
    "...\n",
    "end"
   ]
  },
  {
   "cell_type": "code",
   "execution_count": null,
   "id": "eeb433bf",
   "metadata": {
    "scrolled": false
   },
   "outputs": [],
   "source": [
    "fig = Figure()\n",
    "ax = Axis(fig[1,1], aspect = DataAspect())\n",
    "\n",
    "plot_sierpinski_dreieck([0,0], [0.5,sqrt(0.75)], [1,0], 8, ax)\n",
    "\n",
    "# Schoenere Abbildung:\n",
    "hidespines!(ax)\n",
    "hidedecorations!(ax)\n",
    "\n",
    "fig"
   ]
  },
  {
   "cell_type": "markdown",
   "id": "231c32d7",
   "metadata": {},
   "source": [
    "### b) Das Sierpinski-Dreieck als zellulärer Automat in einer Dimension\n",
    "\n",
    "Im zweiten Teil dieser Aufgabe wollen wir demonstrieren, dass das Sierpinski-Dreieck auch durch die Zeitentwicklung eines eindimensionalen **zellulären Automaten** erhalten wird. \n",
    "Ein zellulärer Automat ist ein System, das aus diskreten Zellen besteht. Im hier betrachteten Fall sind die Zellen alle in einer Linie angeordnet und können einen von zwei Zuständen annehmen, die wir mit `0` und `1` bezeichnen. In jedem Zeitschritt wird der Zustand aller Zellen nach bestimmten Regeln aktualisiert. Der neue Zustand einer Zelle $l$ zur Zeit $t+1$ hängt dabei vom Zustand der Zelle $l$, so wie den Zuständen der direkten Nachbarn $l-1$ und $l+1$ zur Zeit $t$ ab. Konkret betrachten wir die folgenden Update-Vorschriften:\n",
    "\n",
    "<table>\n",
    "<tbody>\n",
    "    <tr>\n",
    "        <th>Zustand <span style=\"color:#82a8cf; font-weight:bold\">Zelle </span> $l$ und Nachbarn $l-1,l+1$ zur Zeit $t$:</th>\n",
    "        <th style=\"text-align:center\">1<span style=\"color:#82a8cf; font-weight:bold\">1</span>1</th>\n",
    "        <th style=\"text-align:center\">1<span style=\"color:#82a8cf; font-weight:bold\">1</span>0</th>\n",
    "        <th style=\"text-align:center\">1<span style=\"color:#82a8cf; font-weight:bold\">0</span>1</th>\n",
    "        <th style=\"text-align:center\">1<span style=\"color:#82a8cf; font-weight:bold\">0</span>0</th>\n",
    "        <th style=\"text-align:center\">0<span style=\"color:#82a8cf; font-weight:bold\">1</span>1</th>\n",
    "        <th style=\"text-align:center\">0<span style=\"color:#82a8cf; font-weight:bold\">1</span>0</th>\n",
    "        <th style=\"text-align:center\">0<span style=\"color:#82a8cf; font-weight:bold\">0</span>1</th>\n",
    "        <th style=\"text-align:center\">0<span style=\"color:#82a8cf; font-weight:bold\">0</span>0</th>\n",
    "    </tr>\n",
    "    <tr>\n",
    "        <th>Neuer Zustand Zelle $l$ zur Zeit $t+1$:</th>\n",
    "        <th style=\"text-align:center\">0</th>\n",
    "        <th style=\"text-align:center\">1</th>\n",
    "        <th style=\"text-align:center\">0</th>\n",
    "        <th style=\"text-align:center\">1</th>\n",
    "        <th style=\"text-align:center\">1</th>\n",
    "        <th style=\"text-align:center\">0</th>\n",
    "        <th style=\"text-align:center\">1</th>\n",
    "        <th style=\"text-align:center\">0</th>\n",
    "    </tr>\n",
    "</tbody>\n",
    "</table>\n",
    "\n",
    "\n",
    "Wir möchten die Entwicklung einer einfachen Ausgangskonfiguration gemäß dieser Update-Vorschrift simulieren. Implementieren Sie dafür die folgenden Schritte:\n",
    "1. Definieren Sie den aktuellen Zustand des Automaten als ein Array aus Integern, z.B. mit der Länge `65`.\n",
    "2. Setzen Sie alle Elemente des Arrays auf `0` und nur das mittlere Element auf `1`.\n",
    "3. Implementieren Sie das Update gemäß obiger Regeln und führen Sie 32 Update-Schritte aus. Geben Sie nach jedem Schritt den Zustand Ihres Automaten in einer neuen Zeile aus (die \"Zeitachse\" zeigt also nach unten).\n",
    "4. Vergleichen Sie ihre Ausgabe mit dem Sierpinski-Dreieck aus Teil a).\n",
    "\n",
    "*Hinweis:* Nützlich ist es, eine Funktion `update!` zu definieren, der Sie den aktuellen Zustand übergeben und die das Update ausführt. Hilfreich ist weiterhin eine Funktion, die den aktuellen Zustand des Automaten ausgibt. Für eine besonders aussagekräftige Ausgabe können Sie `0` durch `-`darstellen und `1` durch `0`. Die Funktion `print` erzeugt eine Ausgabe ohne anschließenden Zeilenumbruch."
   ]
  },
  {
   "cell_type": "markdown",
   "id": "894e3994",
   "metadata": {},
   "source": [
    "<div class=\"alert alert-block alert-info\">\n",
    "<b> &#9406; Fraktale Dimensionen</b> Da die Dreiecke, die das Sierpinski-Dreieck bilden mit steigender Rekursionstiefe immer kleiner werden, mag man sich vielleicht fragen, was für eine Dimension $d$ das Sierpinski-Dreieck eigentlich hat: Ist es eine komplizierte, netzartige Linie ($d=1$), oder eine Fläche ($d=2$)? Die Antwort lautet: weder noch! Stattdessen besitzt das Sierpinski-Dreieck die <b> fraktale </b> Dimension $d \\approx 1.585$. Am einfachsten begreift man dieses ungewöhnliche Verhalten, wenn man das Wachstum bei Verdopplung der Seitenlänge untersucht, wie unten dargestellt.\n",
    "     <img src=\"https://www.thp.uni-koeln.de/trebst/Lectures/CompPhys-2023/fracdim.pdf\" alt=\"Drawing\" style=\"width: 400px; background-color: white\"/> \n",
    "Verdoppelt man die Länge einer Linie ($d=1$), eines Quadrats ($d=2$) und eines Würfels ($d=3$), dann erzeugt man zwei, vier und acht gleiche Kopien des Ausgangsobjektes. Die Anzahl der Objekte wächst also wie $2^d$.\n",
    "Beim Sierpinski-Dreieck erhält man drei gleiche Kopien des Ausgangsobjektes. Für die Dimension ergibt sich dann $d = \\log_2(3) \\approx 1.585$. Diese spezielle Art der fraktalen Dimension, deren Definition\n",
    "die Selbstähnlichkeit des Sierpinski-Dreiecks ausnutzt, bezeichnet man auch als <a href=\"https://de.wikipedia.org/wiki/Fraktale_Dimension#Ähnlichkeits-Dimension\" style=\"text-decoration: underline;text-decoration-style: dotted;\">Ähnlichkeitsdimension</a>. Auf Kreise etwa kann man diese Überlegungen nicht anwenden. Auch andere Definitionen der fraktalen Dimension liefern aber für das Sierpinski-Dreieck das gleiche Ergebnis.\n",
    "</div>\n"
   ]
  },
  {
   "cell_type": "code",
   "execution_count": null,
   "id": "22ff8af5",
   "metadata": {},
   "outputs": [],
   "source": []
  }
 ],
 "metadata": {
  "kernelspec": {
   "display_name": "Julia 1.8.5",
   "language": "julia",
   "name": "julia-1.8"
  },
  "language_info": {
   "file_extension": ".jl",
   "mimetype": "application/julia",
   "name": "julia",
   "version": "1.8.5"
  }
 },
 "nbformat": 4,
 "nbformat_minor": 5
}
