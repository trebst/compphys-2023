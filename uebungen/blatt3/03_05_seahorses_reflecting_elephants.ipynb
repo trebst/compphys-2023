{
 "cells": [
  {
   "cell_type": "markdown",
   "id": "97e44f0a",
   "metadata": {},
   "source": [
    "<table style=\"width: 100%; border-style: none\">\n",
    "<tr style=\"border-style: none; background-color: #82a8cf\">\n",
    "<td style=\"border-style: none; width: 1%; text-align: left; font-size: 18px; color: #ffffff\">Institut f&uuml;r Theoretische Physik<br /> <font color=\"#e6e6e6\">Universit&auml;t zu K&ouml;ln </font></td>\n",
    "<td style=\"border-style: none; width: 1%; font-size: 16px\">&nbsp;</td>\n",
    "<td style=\"border-style: none; width: 1%; text-align: right; font-size: 18px; color: #ffffff\">Prof. Dr. Simon Trebst<br /> <font color=\"#e6e6e6\"> Christoph Berke </font> </td>\n",
    "</tr>\n",
    "</table>\n",
    "<hr  style=\"height: 2px; border-color: #606060; background-color: #606060\"> \n",
    "<h1 style=\"font-weight:200; text-align: center; margin: 0px; font-size: 48px; padding:0px; color: #606060\">Computer-Physik </h1>\n",
    "<h1 style=\"font-weight:light; text-align: center; margin: 10px; padding:0px; color: #606060\">&Uuml;bungsblatt 3</h1>\n",
    "<hr  style=\"height: 2px; border-color: #606060; background-color: #606060\"> \n",
    "<h3 style=\"font-weight:400; text-align: center; margin: 0px; font-size: 20px; padding:0px; margin-bottom: 20px; color: #606060\">Sommersemester 2023</h3>\n",
    "<!--<h3 style=\"font-weight:bold; text-align: center; margin: 0px; font-size: 15px; padding:0px; margin-bottom: 20px;\">Website: <a href=\"https://www.thp.uni-koeln.de/trebst/Lectures/2023-CompPhys.shtml\" style=\"color:#82a8cf; text-decoration: underline;text-decoration-style: dotted;\">https://www.thp.uni-koeln.de/trebst/Lectures/2023-CompPhys.shtml</a></h3> -->\n",
    "\n",
    "<font size=\"4\" color=\"#606060\">**Website:** <a href=\"https://www.thp.uni-koeln.de/trebst/Lectures/2023-CompPhys.shtml\" style=\"color:#82a8cf; text-decoration: underline;text-decoration-style: dotted;\">https://www.thp.uni-koeln.de/trebst/Lectures/2023-CompPhys.shtml</a></font>\n",
    "\n",
    "<font size=\"4\" color=\"#606060\">**Abgabe**: <span style=\"color:#82a8cf\"> 17.4.2023, 12:00 Uhr </span> <span style=\"float:right;\">**Besprechung**: 19.4.2023 - 21.4.2023.</span></font>\n",
    "\n",
    "<font size=\"4\" color=\"#606060\">**Name**: <span style=\"color:#82a8cf\"> Bitte geben Sie Ihren Namen an.  </span> </font>"
   ]
  },
  {
   "cell_type": "markdown",
   "id": "7bae9914",
   "metadata": {},
   "source": [
    "<hr style=\"height:.3px\"> \n",
    "\n",
    "<span style=\"color:#606060; font-weight:bold; font-size:20px\"> Aufgaben auf Übungsblatt 3</span>\n",
    "- <span style=\"color:#606060; font-weight:light; font-size:14px\"> Aufgabe 4: Alles über Primzahlen, Teil II [12 Punkte]</span>\n",
    "- <span style=\"color:#82a8cf; font-weight:bold; font-size:16px\">  Aufgabe 5: Seahorses reflecting elephants [8 Punkte]  </span>\n",
    "- <span style=\"color:#606060; font-weight:light; font-size:14px\">  Aufgabe 6 (Bonus): Das Sierpinski-Dreieck [14 Bonus-Punkte]  </span>\n",
    "\n",
    "\n",
    "\n",
    "<hr style=\"height:.3px\"> "
   ]
  },
  {
   "cell_type": "markdown",
   "id": "86fb108e",
   "metadata": {},
   "source": [
    "<table style=\"border-style: none; width: 100%; background-color: #FFFFFF\"><tr style=\"border-style: none;\">\n",
    "<td style=\"border-style: none; width:1%; text-align: left; font-size: 25px; font-weight: 200;background-color: #FFFFFF\">Aufgabe 5: Seahorses reflecting elephants </td>\n",
    "<td style=\"border-style: none; width: 1%; text-align: right; font-size: 15px;background-color: #FFFFFF\">[8 Punkte]</td></tr></table>"
   ]
  },
  {
   "cell_type": "markdown",
   "id": "9ec5adf9",
   "metadata": {},
   "source": [
    "Ein schönes Beispiel dafür, dass eine einfache Kombination der in den ersten beiden Wochen gelernten, elementaren Programmierkonzepten das Studium komplexer mathematischer Strukturen erlaubt, ist die *Mandelbrot-Menge*.\n",
    "Auf Grund des besonderen ästhetischen Reizes ihrer Formenvielfalt und der Einfachheit der zugrunde liegenden Regeln hat sie auch außerhalb der Mathematik eine große Bekanntheit erlangt. Einige Ausschnitte dieser Menge sind hier gezeigt, etwa das *Seepferdchen* und der *Elefant* in der linken Spalte. In dieser Aufgabe sollen Sie ebenfalls die Visualisierung der Mandelbrot-Menge implementieren.\n",
    "\n",
    " <img src=\"https://www.thp.uni-koeln.de/trebst/Lectures/CompPhys-2023/mandel_examples.png\" alt=\"Drawing\" style=\"width: 800px;\"/> \n",
    "\n",
    "### a) Vorbereitungen\n",
    "Wie bei der Fibonacci-Reihe betrachten wir eine rekursive Vorschrift zur Erzeugung einer Zahlenfolge $z_n$. Jetzt besteht die Reihe aber aus komplexen Zahlen. \n",
    "Die Vorschrift lautet:\n",
    "\\begin{align}\n",
    "z_0 &= 0, \\\\ \n",
    "z_1 &= z_0^2 + c = c, \\\\\n",
    "z_2 &= z_1^2 + c, \\\\\n",
    "& \\dots \\\\\n",
    "z_{n+1} & = z_n^2 + c \\equiv f_c(z_n),\n",
    "\\end{align}\n",
    "mit $f_c(z) = z^2 + c$. Hierbei ist $c$ eine beliebige komplexe Konstante.\n",
    "\n",
    "In der nächsten Zelle ist die Funktion `f(z,c)` definiert (in der Kurzschreibweise). Schreiben Sie eine weitere Funktion `iterate_f`, der Sie eine ganze Zahl `n` und eine komplexe Zahl `c` übergeben und die Ihnen die Zahl $z_n$ aus der oben definierten Zahlenfolge zurückgibt. "
   ]
  },
  {
   "cell_type": "code",
   "execution_count": null,
   "id": "1ed6877d",
   "metadata": {},
   "outputs": [],
   "source": [
    "fc(z,c) = z^2 + c\n",
    "\n",
    "function iterate_f(n, c)\n",
    "    # Implementieren Sie hier die Funktion.\n",
    "end "
   ]
  },
  {
   "cell_type": "markdown",
   "id": "9745976a",
   "metadata": {},
   "source": [
    "Wir interessieren uns jetzt dafür, ob die Folgeglieder $|z_n|$ immer weiter anwachsen, oder gegen einen endlichen Wert konvergieren. Konkret wollen wir untersuchen, ob der Betrag der Folgeglieder irgendwann den Wert 2 überschreitet. Ergänzen Sie in der untenstehenden Zelle Ihre Definition von `iterate_f(n, c)` um eine `if`-Abfrage, die nach jedem Iterationsschritt prüft, ob der aktuelle Wert $|z_i|$ größer ist als 2. In diesem Fall soll der aktuelle Wert von $z_i$ mit `println` ausgegeben werden.\n",
    "\n",
    "Hinweis: Den Betrag einer komplexen Zahl `z` erhalten Sie mit `abs(z)`."
   ]
  },
  {
   "cell_type": "code",
   "execution_count": null,
   "id": "9d5e2b57",
   "metadata": {},
   "outputs": [],
   "source": []
  },
  {
   "cell_type": "markdown",
   "id": "442b00fb",
   "metadata": {},
   "source": [
    "Jetzt wollen wir nicht mehr den Wert von $z_n$ wissen, sondern nur, ob während der $n$ Iterationen ein Folgeglied den Betrag 2 überschritten hat. Ändern Sie den Rückgabewert Ihrer Funktion, sodass am Ende nicht mehr $z_n$ zurückgegeben wird, sondern die Anzahl der Iterationen $i$, die es gedauert hat, bis der Wert 2 überschritten wurde. Wird der Wert 2 gar nicht erreicht, dann soll die Funktion die maximale Iterationsanzahl $n$ zurückgeben.\n",
    "\n",
    "Hinweis: Sobald für einen Index $i$ also $|z_i|>2$ gilt, können Sie die Zahl $i$ zurückgeben lassen und den Funktionsaufruf beenden. Erinnern Sie sich daran, dass die Aussage `return ...` den Funktionsaufruf beendet.\n",
    "\n",
    "Testen Sie Ihr Programm in der übernächsten Zelle."
   ]
  },
  {
   "cell_type": "code",
   "execution_count": null,
   "id": "17b037df",
   "metadata": {},
   "outputs": [],
   "source": [
    "function num_iterations(n, c)\n",
    "   # Schreiben Sie hier die Funktion, die die Anzahl der Iterationen zurueckgibt, nach der |zi|>2 gilt.\n",
    "end "
   ]
  },
  {
   "cell_type": "code",
   "execution_count": null,
   "id": "6d2071c7",
   "metadata": {},
   "outputs": [],
   "source": [
    "num_iterations(10, 0.5) # Hier sollten der Rückgabewert 5 sein.\n",
    "num_iterations(10, im)  # Hier sollte der Rückgabewert 10 sein."
   ]
  },
  {
   "cell_type": "markdown",
   "id": "0c8de61f",
   "metadata": {},
   "source": [
    "### b) Visualisierung der Mandelbrot-Menge\n",
    "Jetzt wollen wir für verschiedene Werte von $c = x + i y$ untersuchen, ob die Zahlenfolge den Wert 2 überschreitet, oder nicht. Für den Realteil $x$ betrachten wir 500 Werte zwischen $-2$ und $1$, für den Imaginärteil 500 Werte zwischen $-1.2$ und $1.2$. Ergänzen Sie zunächst die untenstehende Zelle um die Definition zweier Arrays `xvalues` und `yvalues`, die die Real- und Imaginärteile speichern."
   ]
  },
  {
   "cell_type": "code",
   "execution_count": null,
   "id": "b191c888",
   "metadata": {},
   "outputs": [],
   "source": [
    "resolution = 500 # Anzahl der Werte (oder Pixel) in jede Richtung.\n",
    "\n",
    "# Grenzen für den Real und Imaginärteil von c.\n",
    "xmin,xmax = -2, 1\n",
    "ymin, ymax =  -1.2, 1.2\n",
    "\n",
    "xvalues = ...\n",
    "yvalues = ..."
   ]
  },
  {
   "cell_type": "markdown",
   "id": "7823f5c4",
   "metadata": {},
   "source": [
    "Analysieren Sie jetzt den oben definierte Ausschnitt der komplexe Ebene.\n",
    "Ergänzen Sie hierfür die nächste Zelle, sodass der Eintrag `iterations[i,j]` der Matrix `iterations` abspeichert, nach wievielen Iterationen für $c = $ `xvalues[i] + im * yvalues[j]` das erste Folgeglied den Betrag 2 überschreitet. Stellen Sie anschließend die Matrix mithilfe des `heatmap`-Befehls in der dafür vorbereiteten, übernächsten Zelle dar."
   ]
  },
  {
   "cell_type": "code",
   "execution_count": null,
   "id": "0a606e1f",
   "metadata": {},
   "outputs": [],
   "source": [
    "# Matrix, um fuer alle komplexen Zahlen die Anzahl\n",
    "# der Iterationen zu speichern.\n",
    "iterations = zeros(resolution, resolution)\n",
    "\n",
    "# maximal erlaubte Anzahl an Iterationen in der Funktion num_iterations\n",
    "imax = 100\n",
    "\n",
    "for ...\n",
    "    ...\n",
    "    ...\n",
    "end"
   ]
  },
  {
   "cell_type": "code",
   "execution_count": null,
   "id": "fb9f701a",
   "metadata": {},
   "outputs": [],
   "source": [
    "using CairoMakie # Paket zum Plotten laden.\n",
    "\n",
    "# Figure und Axis-Umgebung definieren.\n",
    "fig = Figure()\n",
    "ax = Axis(fig[1,1])\n",
    "\n",
    "# Darstellung der Matrix\n",
    "# Die log-Funktion verbessert die Darstellung.\n",
    "heatmap!(ax,log.(iterations), colormap=:magma)\n",
    "\n",
    "# Unterdruecke Labels, Ticks, etc.\n",
    "hidedecorations!(ax)\n",
    "\n",
    "# Zeige das Bild an\n",
    "fig"
   ]
  },
  {
   "cell_type": "markdown",
   "id": "4c7bf3b5",
   "metadata": {},
   "source": [
    " #### Optional: \n",
    " Betrachten Sie weitere Ausschnitte aus der Mandelbrot-Menge, in dem Sie die Variablen `xmin,xmax,ymin,ymax` verändern. Sie können mehr Details auflösen, wenn Sie die maximal erlaubte Anzahl an Iterationen erhöhen. Durch die Wahl geeigneter [Farbschema](https://docs.juliahub.com/MakieGallery/Ql23q/0.2.17/generated/colors.html) können die Bilder ansprechender gestaltet werden. Wie oben gezeigt, aktiviert die Option `colormap=:Name_der_Colormap` das Farbschema `Name_der_Colormap`.\n",
    "Nachfolgend finden Sie Koordinaten, Farbschema und `imax` Werte für die eingangs gezeigten Bilder. Noch mehr Inspiration gibt es [hier.](https://twitter.com/randommandelbot?s=21&t=AQRP1GpaYhAblGzy8C-lag)"
   ]
  },
  {
   "cell_type": "code",
   "execution_count": null,
   "id": "dcc1607c",
   "metadata": {},
   "outputs": [],
   "source": [
    "# Original Mandelbrot (row 1, column 2)\n",
    "# colormap=:cmyk\n",
    "imax = 100\n",
    "xmin,xmax = -2, 1\n",
    "ymin, ymax =  -1.2, 1.2\n",
    "\n",
    "# Das Seepferdchen (r1c1)\n",
    "# colormap=:curl\n",
    "imax = 6000\n",
    "xmin, xmax = -0.75, -0.7457\n",
    "ymin, ymax= -0.088, -0.0831\n",
    "\n",
    "# Umgebung eines Misiurewicz-Punktes (r2c2)\n",
    "# colormap: :berlin\n",
    "imax = 6000\n",
    "xmin, xmax = -0.348538, -0.348315\n",
    "ymin, ymax = -0.606592, -0.606487\n",
    "\n",
    "# (r1c3)\n",
    "# colormap=:magma\n",
    "imax = 50\n",
    "xmin, xmax = -0.15, -0.05\n",
    "ymin, ymax = 0.906, 1,006\n",
    "\n",
    "# Der Elefant (r2c1)\n",
    "# (colormap=:greenbrownterrain)\n",
    "imax = 1000\n",
    "xmin,xmax = 0.308, 0.32\n",
    "ymin, ymax =  -0.034, -0.024\n",
    "\n",
    "# Das Tal der Elephanten (r2c3)\n",
    "# colormap =: oxy\n",
    "imax = 1000\n",
    "xmin,xmax = 0.2265, 0.39534\n",
    "ymin,ymax = -0.116,0\n",
    "\n",
    "# Kleines Mandelbrot (Vergrößerung bzgl. Original: Faktor 200.000) (r1c4)\n",
    "# colormap=:seaborn_bright :\n",
    "imax = 6000\n",
    "xmin, xmax = -0.743650449, -0.743635821\n",
    "ymin, ymax = 0.131818649, 0.131833277\n",
    "\n",
    "# Julia-set like (Vergrößerung bzgl. Original:  59.979.000.000 (!!!)) (r2c4)\n",
    "# colormap:=curl\n",
    "imax = 6000\n",
    "xc = -.743643887037151\n",
    "yc = .131825904205330\n",
    "d = .000000000051299\n",
    "xmin, xmax = xc-d/2, xc+d/2\n",
    "ymin, ymax = yc-d/2, yc+d/2"
   ]
  },
  {
   "cell_type": "code",
   "execution_count": null,
   "id": "8f4bc2e6",
   "metadata": {},
   "outputs": [],
   "source": []
  }
 ],
 "metadata": {
  "kernelspec": {
   "display_name": "Julia 1.8.5",
   "language": "julia",
   "name": "julia-1.8"
  },
  "language_info": {
   "file_extension": ".jl",
   "mimetype": "application/julia",
   "name": "julia",
   "version": "1.8.5"
  }
 },
 "nbformat": 4,
 "nbformat_minor": 5
}
