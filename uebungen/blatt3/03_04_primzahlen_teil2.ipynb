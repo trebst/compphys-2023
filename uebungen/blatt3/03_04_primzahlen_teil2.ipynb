{
 "cells": [
  {
   "cell_type": "markdown",
   "id": "72a36cdf",
   "metadata": {},
   "source": [
    "<table style=\"width: 100%; border-style: none\">\n",
    "<tr style=\"border-style: none; background-color: #82a8cf\">\n",
    "<td style=\"border-style: none; width: 1%; text-align: left; font-size: 18px; color: #ffffff\">Institut f&uuml;r Theoretische Physik<br /> <font color=\"#e6e6e6\">Universit&auml;t zu K&ouml;ln </font></td>\n",
    "<td style=\"border-style: none; width: 1%; font-size: 16px\">&nbsp;</td>\n",
    "<td style=\"border-style: none; width: 1%; text-align: right; font-size: 18px; color: #ffffff\">Prof. Dr. Simon Trebst<br /> <font color=\"#e6e6e6\"> Christoph Berke </font> </td>\n",
    "</tr>\n",
    "</table>\n",
    "<hr  style=\"height: 2px; border-color: #606060; background-color: #606060\"> \n",
    "<h1 style=\"font-weight:200; text-align: center; margin: 0px; font-size: 48px; padding:0px; color: #606060\">Computer-Physik </h1>\n",
    "<h1 style=\"font-weight:light; text-align: center; margin: 10px; padding:0px; color: #606060\">&Uuml;bungsblatt 3</h1>\n",
    "<hr  style=\"height: 2px; border-color: #606060; background-color: #606060\"> \n",
    "<h3 style=\"font-weight:400; text-align: center; margin: 0px; font-size: 20px; padding:0px; margin-bottom: 20px; color: #606060\">Sommersemester 2023</h3>\n",
    "<!--<h3 style=\"font-weight:bold; text-align: center; margin: 0px; font-size: 15px; padding:0px; margin-bottom: 20px;\">Website: <a href=\"https://www.thp.uni-koeln.de/trebst/Lectures/2023-CompPhys.shtml\" style=\"color:#82a8cf; text-decoration: underline;text-decoration-style: dotted;\">https://www.thp.uni-koeln.de/trebst/Lectures/2023-CompPhys.shtml</a></h3> -->\n",
    "\n",
    "<font size=\"4\" color=\"#606060\">**Website:** <a href=\"https://www.thp.uni-koeln.de/trebst/Lectures/2023-CompPhys.shtml\" style=\"color:#82a8cf; text-decoration: underline;text-decoration-style: dotted;\">https://www.thp.uni-koeln.de/trebst/Lectures/2023-CompPhys.shtml</a></font>\n",
    "\n",
    "<font size=\"4\" color=\"#606060\">**Abgabe**: <span style=\"color:#82a8cf\"> 17.4.2023, 12:00 Uhr </span> <span style=\"float:right;\">**Besprechung**: 19.4.2023 - 21.4.2023.</span></font>\n",
    "\n",
    "<font size=\"4\" color=\"#606060\">**Name**: <span style=\"color:#82a8cf\"> Bitte geben Sie Ihren Namen an.  </span> </font>"
   ]
  },
  {
   "cell_type": "markdown",
   "id": "580bd438",
   "metadata": {},
   "source": [
    "<hr style=\"height:.3px\"> \n",
    "\n",
    "<span style=\"color:#606060; font-weight:bold; font-size:20px\"> Aufgaben auf Übungsblatt 3</span>\n",
    "- <span style=\"color:#82a8cf; font-weight:bold; font-size:16px\"> Aufgabe 4: Alles über Primzahlen, Teil II [12 Punkte]</span>\n",
    "- <span style=\"color:#606060; font-weight:light; font-size:14px\">  Aufgabe 5: Seahorses reflecting elephants [8 Punkte]  </span>\n",
    "- <span style=\"color:#606060; font-weight:light; font-size:14px\">  Aufgabe 6 (Bonus): Das Sierpinski-Dreieck [14 Bonus-Punkte]  </span>\n",
    "\n",
    "\n",
    "\n",
    "<hr style=\"height:.3px\"> "
   ]
  },
  {
   "cell_type": "markdown",
   "id": "52fec430",
   "metadata": {},
   "source": [
    "<table style=\"border-style: none; width: 100%; background-color: #FFFFFF\"><tr style=\"border-style: none;\">\n",
    "<td style=\"border-style: none; width:1%; text-align: left; font-size: 25px; font-weight: 200;background-color: #FFFFFF\">Aufgabe 4: Alles über Primzahlen, Teil II </td>\n",
    "<td style=\"border-style: none; width: 1%; text-align: right; font-size: 15px;background-color: #FFFFFF\">[12 Punkte]</td></tr></table>"
   ]
  },
  {
   "cell_type": "markdown",
   "id": "eced395c",
   "metadata": {},
   "source": [
    "### a)  Implementation einer Funktion zum Test auf Primzahlen\n",
    "\n",
    "Auf Aufgabenblatt 2 haben Sie in Teilaufgabe 3a) ein Programm geschrieben, das testet, ob eine vorgegebene Zahl `N` eine Primzahl ist. Um Programme leichter lesbar und einfacher wiederverwendbar zu machen, ist es eine gute Idee, Programmteile, die kleine, wohldefinierte Aufgaben übernehmen, in **Funktionen** auszulagern. Benutzen Sie Ihr Programm aus Aufgabe 3a) um eine Funktion `ist_primzahl` zu definieren, der Sie eine Zahl `N` übergeben können, und die Ihnen eine Variable vom Typ `Bool` mit dem Wert `true` zurückgibt, wenn `N` eine Primzahl ist, und eine Variable vom Typ `Bool` mit dem Wert `false`, wenn `N` keine Primzahl ist.\n",
    "Testen Sie Ihre Funktionsdefinition mit der übernächsten Zelle."
   ]
  },
  {
   "cell_type": "code",
   "execution_count": null,
   "id": "9c1bcd3b",
   "metadata": {},
   "outputs": [],
   "source": [
    "# Definieren Sie hier die Funktion ist_primzahl\n",
    "function ist_primzahl(N)\n",
    "    # Ergaenzen Sie hier Ihren Code.\n",
    "end"
   ]
  },
  {
   "cell_type": "code",
   "execution_count": null,
   "id": "243321fd",
   "metadata": {},
   "outputs": [],
   "source": [
    "# Hier können Sie die Funktion ist_primzahl testen.\n",
    "println(ist_primzahl(797)) # true\n",
    "println(ist_primzahl(798)) # false"
   ]
  },
  {
   "cell_type": "markdown",
   "id": "37028ca2",
   "metadata": {},
   "source": [
    "### b)  Alle Primzahlen, die kleiner sind als 1000, revisited\n",
    "Am Ende von Aufgabe 3b) haben Sie ein Programm geschrieben, das alle Primzahlen, die kleiner sind als 1000, in einem Array speichert. Wiederholen Sie diesen Schritt, diesmal unter Verwendung der Funktion `ist_primzahl`."
   ]
  },
  {
   "cell_type": "code",
   "execution_count": null,
   "id": "2705c738",
   "metadata": {},
   "outputs": [],
   "source": []
  },
  {
   "cell_type": "markdown",
   "id": "c07d64d9",
   "metadata": {},
   "source": [
    "### c) Darstellung der Primzahlen"
   ]
  },
  {
   "cell_type": "markdown",
   "id": "d6642201",
   "metadata": {},
   "source": [
    "Zum krönenden Abschluss unseres Exkurses sollen Sie eine überraschende Eigenschaft von Primzahlen demonstrieren.\n",
    "\n",
    "Führen Sie Ihr Programm aus Aufgabenteil b) zunächst erneut aus, um alle Primzahlen zu berechnen, die kleiner sind als 20.000.\n",
    "Diese 20.000 Primzahlen sollen jetzt auf eine bestimmte Weise dargestellt werden. Für jede Primzahl $N$ berechnen wir eine $x$- und $y$-Koordinate gemäß der Vorschrift $x_N = N \\cdot \\cos N$ und $y_N = N \\cdot \\sin N$. Anschließend wollen wir den Punkt $(x_N,y_N)$ in ein Koordinatensystem zeichnen. \n",
    "Hierfür benutzen wir das Paket `CairoMakie` (siehe das auf der Vorlesungsseite verlinkte Tutorium). \n",
    "Der Befehl `scatter!(xvalues, yvales)` erzeugt den gewünschten Plot. Hierbei ist `xvalues` ein Array, das alle 20.000 $x$-Koordinaten enthält, und `yvalues` das Array, in dem die 20.000 $y$-Komponenten gespeichert sind.\n",
    "\n",
    "Erzeugen Sie zunächst die benötigten Arrays `xvalues` und `yvalues`. Benutzen Sie für eines der Arrays eine `for`-Schleife, und für das andere Array den Operator `.`, der die elementweise Anwendung von Rechenoperationen auf die Eintraege eines Arrays erlaubt."
   ]
  },
  {
   "cell_type": "code",
   "execution_count": null,
   "id": "e0d6f986",
   "metadata": {},
   "outputs": [],
   "source": []
  },
  {
   "cell_type": "markdown",
   "id": "9c34ef1d",
   "metadata": {},
   "source": [
    "Der untenstehende Code erzeugt jetzt den gewünschten Scatterplot. Was fällt Ihnen auf?"
   ]
  },
  {
   "cell_type": "code",
   "execution_count": null,
   "id": "4867d981",
   "metadata": {},
   "outputs": [],
   "source": [
    "using CairoMakie\n",
    "fig = Figure()\n",
    "ax = Axis(fig[1,1])\n",
    "scatter!(xvalues, yvalues, markersize = 3)\n",
    "fig"
   ]
  },
  {
   "cell_type": "markdown",
   "id": "f5ba56a4",
   "metadata": {},
   "source": [
    "Wiederholen Sie die oben stehenden Schritte um auch alle Primzahlen die kleiner sind als 1.000.000 darzustellen. Welche zusätzliche Struktur ist jetzt erkennbar?\n",
    "\n",
    "*Hinweis:* Je nachdem, wie Sie die Funktion `ist_primzahl` definiert haben, kann die Berechnung sehr lange dauern. Deshalb hier zwei Tipps, wie Sie Ihre Funktion ggf. verbessern können: (i) Überlegen Sie sich, welches die größte Zahl $z$ ist, für die man $N$ auf Teilbarkeit prüfen muss (die Antwort ist $z<\\sqrt{N}$, aber wieso?). \n",
    "(ii) Die Überprüfung auf ganzzahlige Teilbarkeit kann beendet werden, sobald *ein* Teiler gefunden wurde. Z.B. ergibt es keinen Sinn eine gerade Zahl auf die Teilbarkeit durch Zahlen $z>2$ zu testen. Erinnern Sie sich daran, dass ein Funktionsaufruf durch das erste `return` Statement beendet wird.\n",
    "\n",
    "Passen Sie ggf. die Definition der Funktion `ist_primzahl` an, oder beschränken Sie sich auf die Primzahlen unterhalb von 100.000, wenn Ihr Computer andernfalls zu lange braucht."
   ]
  },
  {
   "cell_type": "code",
   "execution_count": null,
   "id": "a0cef622",
   "metadata": {},
   "outputs": [],
   "source": []
  },
  {
   "cell_type": "code",
   "execution_count": null,
   "id": "b3ca3aa5",
   "metadata": {},
   "outputs": [],
   "source": []
  },
  {
   "cell_type": "code",
   "execution_count": null,
   "id": "7951572b",
   "metadata": {},
   "outputs": [],
   "source": []
  },
  {
   "cell_type": "markdown",
   "id": "904d4406",
   "metadata": {},
   "source": [
    "Die entstehenden Muster scheinen im Widerspruch mit dem zufälligen Auftreten von Primzahlen innerhalb der natürlichen Zahlen zu stehen. Bei genauerer Betrachtung gibt es jedoch eine simple Erklärung für die auftrenden Spiralen und Strahlen und besonders die markanten Fehlstellen. Mehr dazu erfahren Sie in diesem [Video](https://www.youtube.com/watch?v=EK32jo7i5LQ) des Youtubers 3Blue1Brown. "
   ]
  }
 ],
 "metadata": {
  "kernelspec": {
   "display_name": "Julia 1.8.5",
   "language": "julia",
   "name": "julia-1.8"
  },
  "language_info": {
   "file_extension": ".jl",
   "mimetype": "application/julia",
   "name": "julia",
   "version": "1.8.5"
  }
 },
 "nbformat": 4,
 "nbformat_minor": 5
}
