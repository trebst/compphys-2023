{
 "cells": [
  {
   "cell_type": "markdown",
   "id": "97e44f0a",
   "metadata": {},
   "source": [
    "<table style=\"width: 100%; border-style: none\">\n",
    "<tr style=\"border-style: none; background-color: #82a8cf\">\n",
    "<td style=\"border-style: none; width: 1%; text-align: left; font-size: 18px; color: #ffffff\">Institut f&uuml;r Theoretische Physik<br /> <font color=\"#e6e6e6\">Universit&auml;t zu K&ouml;ln </font></td>\n",
    "<td style=\"border-style: none; width: 1%; font-size: 16px\">&nbsp;</td>\n",
    "<td style=\"border-style: none; width: 1%; text-align: right; font-size: 18px; color: #ffffff\">Prof. Dr. Simon Trebst<br /> <font color=\"#e6e6e6\"> Christoph Berke </font> </td>\n",
    "</tr>\n",
    "</table>\n",
    "<hr  style=\"height: 2px; border-color: #606060; background-color: #606060\"> \n",
    "<h1 style=\"font-weight:200; text-align: center; margin: 0px; font-size: 48px; padding:0px; color: #606060\">Computer-Physik </h1>\n",
    "<h1 style=\"font-weight:light; text-align: center; margin: 10px; padding:0px; color: #606060\">&Uuml;bungsblatt 1</h1>\n",
    "<hr  style=\"height: 2px; border-color: #606060; background-color: #606060\"> \n",
    "<h3 style=\"font-weight:400; text-align: center; margin: 0px; font-size: 20px; padding:0px; margin-bottom: 20px; color: #606060\">Sommersemester 2023</h3>\n",
    "<!--<h3 style=\"font-weight:bold; text-align: center; margin: 0px; font-size: 15px; padding:0px; margin-bottom: 20px;\">Website: <a href=\"https://www.thp.uni-koeln.de/trebst/Lectures/2023-CompPhys.shtml\" style=\"color:#82a8cf; text-decoration: underline;text-decoration-style: dotted;\">https://www.thp.uni-koeln.de/trebst/Lectures/2023-CompPhys.shtml</a></h3> -->\n",
    "\n",
    "<font size=\"4\" color=\"#606060\">**Website:** <a href=\"https://www.thp.uni-koeln.de/trebst/Lectures/2023-CompPhys.shtml\" style=\"color:#82a8cf; text-decoration: underline;text-decoration-style: dotted;\">https://www.thp.uni-koeln.de/trebst/Lectures/2023-CompPhys.shtml</a></font>\n",
    "\n",
    "<font size=\"4\" color=\"#606060\">**Abgabe**: <span style=\"color:#82a8cf\"> keine Abgabe, Präsenzübung </span> <span style=\"float:right;\">**Besprechung**: 5.4.2023 - 7.4.2023.</span></font>\n",
    "\n",
    "<font size=\"4\" color=\"#606060\">**Name**: <span style=\"color:#82a8cf\"> Bitte geben Sie Ihren Namen an.  </span> </font>"
   ]
  },
  {
   "cell_type": "markdown",
   "id": "2afcb368",
   "metadata": {},
   "source": [
    "<hr style=\"height:.3px\"> \n",
    "\n",
    "<span style=\"color:#606060; font-weight:bold; font-size:20px\"> Aufgaben auf Übungsblatt 1</span>\n",
    "- <span style=\"color:#606060; font-weight:light; font-size:14px\"> Einstiegsaufgaben [0 Punkte]</span>\n",
    "\n",
    "\n",
    "<hr style=\"height:.3px\"> "
   ]
  },
  {
   "cell_type": "markdown",
   "id": "86fb108e",
   "metadata": {},
   "source": [
    "<table style=\"border-style: none; width: 100%; background-color: #FFFFFF\"><tr style=\"border-style: none;\">\n",
    "<td style=\"border-style: none; width:1%; text-align: left; font-size: 28px; font-weight: 200;background-color: #FFFFFF\">Aufgabe 1: Einstiegsaufgaben</td>\n",
    "<td style=\"border-style: none; width: 1%; text-align: right; font-size: 15px;background-color: #FFFFFF\">[0 Punkte]</td></tr></table>"
   ]
  },
  {
   "cell_type": "markdown",
   "id": "b9d47683",
   "metadata": {},
   "source": [
    "Im ersten Programmiertutorial haben Sie einige Grundkonzepte der Programmierung in Julia (Ausgaben, Variablen, Typen, Arrays) kennengelernt. Die nachfolgenden Übungsaufgaben sollen Ihnen dabei helfen, dieses Wissen anzuwenden und zu vertiefen. Außerdem können Sie den Umgang mit den in Julia eingebauten Hilfsfunktionen üben.\n",
    "Bearbeiten Sie die Aufgaben in den dafür bereit gestellten Zellen unterhalb der jeweiligen Aufgabenstellungen."
   ]
  },
  {
   "cell_type": "markdown",
   "id": "1e703112",
   "metadata": {},
   "source": [
    "## a) Ausgaben und Hello World\n",
    "\n",
    "Schreiben Sie ein sogenanntes **Hello world**-Programm in Julia, d.h. einen Code, welcher die Ausgabe \"Hello world\" erzeugt."
   ]
  },
  {
   "cell_type": "code",
   "execution_count": null,
   "id": "1272a6a3",
   "metadata": {},
   "outputs": [],
   "source": []
  },
  {
   "cell_type": "markdown",
   "id": "c94fee00",
   "metadata": {},
   "source": [
    "## b) Variablen\n",
    "\n",
    "Um Ergebnisse oder Werte in Ihrem Code festzuhalten, benötigen Sie **Variablen**. Erweitern Sie den unten stehenden Code, damit er die Summe der beiden vordefinierten Variablen `x` und `y` in einer neuen Variable `z` speichert. Geben Sie `z` danach aus. Benutzen Sie zur Ausgabe von `z` beide der in der Vorlesung gezeigten Optionen."
   ]
  },
  {
   "cell_type": "code",
   "execution_count": null,
   "id": "e7dad63c",
   "metadata": {},
   "outputs": [],
   "source": [
    "x = 3\n",
    "y = 4"
   ]
  },
  {
   "cell_type": "markdown",
   "id": "83f137e9",
   "metadata": {},
   "source": [
    "Speichern Sie auch die Ergebnisse der Rechnungen $x \\cdot y$, $x: y$, $x^y$, $\\exp(x+y)$ und $\\cos(x^2-\\frac{1}{y})$. Geben Sie die Ergebnisse jeweils aus."
   ]
  },
  {
   "cell_type": "code",
   "execution_count": null,
   "id": "51e20314",
   "metadata": {},
   "outputs": [],
   "source": []
  },
  {
   "cell_type": "markdown",
   "id": "66c68a66",
   "metadata": {},
   "source": [
    "## c) Typen\n",
    "In der Regel besitzt jede Variable einen bestimmten Typen, wie z.B. Int64 (ganze Zahlen) oder String (Text).\n",
    "\n",
    "Sie werden in den nachfolgenden Übungsaufgaben meistens Variablentypen benötigen, die Fließkommazahlen, ganze Zahlen, oder komplexe Zahlen speichern. Definieren Sie für jeden dieser Typen je eine Variable in der folgenden Zelle (Hinweis: Was ist der Unterschied zwischen `1` und `1.`?). Lassen Sie sich anschließend mittels der Funktion `typeof` den Typen der Variablen ausgeben. Tipp: Die imaginäre Einheit $i$ heißt in Julia `im`."
   ]
  },
  {
   "cell_type": "code",
   "execution_count": null,
   "id": "7d2e8a5e",
   "metadata": {},
   "outputs": [],
   "source": []
  },
  {
   "cell_type": "markdown",
   "id": "2b8426dc",
   "metadata": {},
   "source": [
    "Definieren Sie zwei ganze Zahlen vom Typ Int64, $i_1 = 20$ und $i_2 = 5$. Welchen Typ hat das Ergebnis der Division $i_1 : i_2$?"
   ]
  },
  {
   "cell_type": "code",
   "execution_count": null,
   "id": "03722d0b",
   "metadata": {},
   "outputs": [],
   "source": []
  },
  {
   "cell_type": "markdown",
   "id": "989c9eb2",
   "metadata": {},
   "source": [
    "## d) Hilf dir selbst: `?` und `apropos`\n",
    "Wie in der Vorlesung gezeigt, ist in Julia eine Hilfe verfügbar, auf die Sie mittels des `?` zugreifen können. Zum Beispiel erhalten Sie durch `?abs` Erklärungen und Beispiele zur Funktionsweise der Funktion `abs(x)`, die den Betrag der Variablen `x` zurückgibt. In diesem Teil der Aufgabe sollen Sie etwas Routine im Umgang mit der Hilfsfunktion erwerben. \n",
    "\n",
    "Benutzen Sie die Julia-Hilfe, um sich mit den Funktionen `rem` und `div` vertraut zu machen."
   ]
  },
  {
   "cell_type": "code",
   "execution_count": null,
   "id": "09ed84ee",
   "metadata": {},
   "outputs": [],
   "source": []
  },
  {
   "cell_type": "code",
   "execution_count": null,
   "id": "cc313edf",
   "metadata": {},
   "outputs": [],
   "source": []
  },
  {
   "cell_type": "markdown",
   "id": "ac5cc7c5",
   "metadata": {},
   "source": [
    "Betrachten Sie jetzt die beiden Divisionen `113/8` und `16245/35`.\n",
    "Benutzen Sie Ihr gerade erworbenes Wissen um\n",
    "- den ganzzahligen Anteil des Ergebnisses der Division\n",
    "- den Rest der Divison\n",
    "\n",
    "zu berechnen."
   ]
  },
  {
   "cell_type": "code",
   "execution_count": null,
   "id": "00bfebbd",
   "metadata": {},
   "outputs": [],
   "source": []
  },
  {
   "cell_type": "markdown",
   "id": "cd73a1a4",
   "metadata": {},
   "source": [
    "Neben `?` steht in Julia auch noch die Funktion `apropos` zu Verfügung, mit der Sie die Dokumentation aller Funktionen nach bestimmten Schlagwörtern durchsuchen können. Ein Beispiel: Sie wollen die Eigenvektoren einer Matrix berechnen, haben aber den Namen der Funktion, die dies tut, vergessen. Dann liefert `apropos(\"Eigenvectors\")` eine Liste aller Funktionen, auf deren Hilfsseite (dem  sogenannten <a href=\"https://en.wikipedia.org/wiki/Docstring\"> Docstring </a>) der Begriff \"Eigenvectors\" auftaucht. Das schränkt die Auswahl zumindest schonmal etwas ein."
   ]
  },
  {
   "cell_type": "code",
   "execution_count": null,
   "id": "f4f45153",
   "metadata": {},
   "outputs": [],
   "source": [
    "apropos(\"Eigenvectors\")"
   ]
  },
  {
   "cell_type": "markdown",
   "id": "054f3f95",
   "metadata": {},
   "source": [
    "Benutzen Sie die Funktion `apropos`, um eine Funktion zu finden, die eine farbige Ausgabe erzeugt. Benutzen Sie anschließend `?`, um herauszufinden, wie Sie eine farbige Variante des Hello world-Programms erzeugen können. Beachten Sie, dass die Dokumentationen in Julia auf Englisch geschrieben sind (`apropos(\"Farbe\")` ist also keine gute Idee)."
   ]
  },
  {
   "cell_type": "code",
   "execution_count": null,
   "id": "78dc449e",
   "metadata": {},
   "outputs": [],
   "source": []
  },
  {
   "cell_type": "code",
   "execution_count": null,
   "id": "7876a071",
   "metadata": {},
   "outputs": [],
   "source": []
  },
  {
   "cell_type": "code",
   "execution_count": null,
   "id": "e7f8ed35",
   "metadata": {},
   "outputs": [],
   "source": []
  },
  {
   "cell_type": "markdown",
   "id": "67410308",
   "metadata": {},
   "source": [
    "## e) Arrays"
   ]
  },
  {
   "cell_type": "markdown",
   "id": "2aa1f6cc",
   "metadata": {},
   "source": [
    "In der Vorlesung haben Sie das Konzepts eines Arrays (machmal auch als Feld bezeichnet) kennengelernt. Arrays sind Objekte, die mehrere Variablen zusammenfassen. Auf die einzelnen Einträge kann mittels Indizes zugegriffen werden. Im Prinzip kennen Sie das Konzept aus der Linearen Algebra, wo Sie mit Vektoren und Matrizen bereits Objekte kennengelernt haben, auf deren Komponenten Sie mittels Indizierung zugreifen, etwa die Komponente $x_4 = 5$ des Vektors $\\textbf{x} = (0,2,1,5,7)$. In Julia würden Sie den Vektor $\\textbf{x}$ in einem Array `x = [0,2,1,5,7]` speichern und auf die vierte Komponente $x_4$ mittels `x[4]` zugreifen.\n",
    "\n",
    "\n",
    "Wir betrachten zunächst eindimensionale Arrays (also Vektoren). Definieren Sie ein Array, dass alle ganzen Zahlen von 1 bis 10 enthält."
   ]
  },
  {
   "cell_type": "code",
   "execution_count": null,
   "id": "e22973e8",
   "metadata": {},
   "outputs": [],
   "source": []
  },
  {
   "cell_type": "markdown",
   "id": "cd06bb5b",
   "metadata": {},
   "source": [
    "Geben Sie das erste, siebte und zehnte Element aus."
   ]
  },
  {
   "cell_type": "code",
   "execution_count": null,
   "id": "976db361",
   "metadata": {},
   "outputs": [],
   "source": []
  },
  {
   "cell_type": "markdown",
   "id": "1d940e11",
   "metadata": {},
   "source": [
    "Was passiert, wenn Sie versuchen, auf die Einträge mit den Indizes 0 oder 11 zuzugreifen? Versuchen Sie, die resultierende Fehlermeldung zu verstehen."
   ]
  },
  {
   "cell_type": "code",
   "execution_count": null,
   "id": "eff6462e",
   "metadata": {},
   "outputs": [],
   "source": []
  },
  {
   "cell_type": "markdown",
   "id": "046a1b20",
   "metadata": {},
   "source": [
    "In der Vorlesung haben Sie die Funktionen `push!` und `pop!` kennengelernt. Erweitern Sie das Array, indem Sie nacheinander die Zahlen 11 bis 13 an das hintere Ende des Arrays ranhängen (konsultieren Sie ggf. die Hilfe via `?`). Geben Sie nach jedem Schritt die aktuelle Länge des Arrays aus, etwa mit `length` oder `size`."
   ]
  },
  {
   "cell_type": "code",
   "execution_count": null,
   "id": "0d85209d",
   "metadata": {},
   "outputs": [],
   "source": []
  },
  {
   "cell_type": "markdown",
   "id": "ff501b1f",
   "metadata": {},
   "source": [
    "Beim Adressieren von Einträgen in Arrays gibt es einige nützliche Schreibweisen: Zum Beispiel kann auf das letzte Element eines Arrays mit dem Index `end` zugegriffen werden, auf das vorletzte mit `end-1`, usw. Außerdem kann der Doppelpunkt `:` benutzt werden, um alle Einträge von einem Startindex bis zu einem Stoppindex anzusprechen. Hier ein Beispiel:"
   ]
  },
  {
   "cell_type": "code",
   "execution_count": null,
   "id": "7afca158",
   "metadata": {},
   "outputs": [],
   "source": [
    "A1 = [2,4,6,8,10,12,14,16,18,20,22,24]\n",
    "A1[2:end-1]"
   ]
  },
  {
   "cell_type": "markdown",
   "id": "7241c030",
   "metadata": {},
   "source": [
    "Erzeugen Sie zunächst ein Array mit 20 zufälligen Zahlen zwischen 0 und 1 (in der Vorlesung hatten Sie hierfür den Befehl `rand` kennengelernt). Greifen Sie anschließend mittels der `:` Notation auf die Einträge 1 bis 7, 10 bis 16 und 11 bis 20 zu. Benutzen Sie hierbei auch `end`."
   ]
  },
  {
   "cell_type": "code",
   "execution_count": null,
   "id": "74b09918",
   "metadata": {},
   "outputs": [],
   "source": []
  },
  {
   "cell_type": "code",
   "execution_count": null,
   "id": "7b6af69e",
   "metadata": {},
   "outputs": [],
   "source": []
  },
  {
   "cell_type": "code",
   "execution_count": null,
   "id": "35af6c10",
   "metadata": {},
   "outputs": [],
   "source": []
  },
  {
   "cell_type": "code",
   "execution_count": null,
   "id": "401bc806",
   "metadata": {},
   "outputs": [],
   "source": []
  },
  {
   "cell_type": "markdown",
   "id": "2bba1613",
   "metadata": {},
   "source": [
    "Definieren Sie ein Array der Länge 20, bei dem alle Einträge auf Null gesetzt sind (die Funktion `zeros` ist ihr Freund)."
   ]
  },
  {
   "cell_type": "code",
   "execution_count": null,
   "id": "377b7888",
   "metadata": {},
   "outputs": [],
   "source": []
  },
  {
   "cell_type": "markdown",
   "id": "9514d253",
   "metadata": {},
   "source": [
    "Lassen Sie sich den Datentypen ausgeben. Erzeugen Sie anschließend ein Array, dessen Einträge ebenfalls Null sind, aber vom Typ Int64 sind (benutzen Sie gegebenenfalls `?`)."
   ]
  },
  {
   "cell_type": "code",
   "execution_count": null,
   "id": "edffdd60",
   "metadata": {},
   "outputs": [],
   "source": []
  },
  {
   "cell_type": "code",
   "execution_count": null,
   "id": "f6df2366",
   "metadata": {},
   "outputs": [],
   "source": []
  },
  {
   "cell_type": "code",
   "execution_count": null,
   "id": "e49ecfa6",
   "metadata": {},
   "outputs": [],
   "source": []
  },
  {
   "cell_type": "markdown",
   "id": "753248f1",
   "metadata": {},
   "source": [
    "Wie in der Vorlesung gezeigt wurde, kann man auch höherdimensionale Arrays erzeugen, deren Einträge dann durch mehrere Indizes angesprochen werden können. Sie kennen das von Matrizen (also zweidimensionalen Arrays), bei denen üblicherweise $a_{i,j}$ den Eintrag in Zeile $i$ und Spalte $j$ bezeichnet. \n",
    "\n",
    "Definieren Sie ein zweidimensionales Array $A$ mit 3 Zeilen und 4 Spalten. Die Einträge sollen zunächst alle Null sein. Setzen Sie dann die Einträge $A_{1,4}$ und $A_{3,2}$ auf 1."
   ]
  },
  {
   "cell_type": "code",
   "execution_count": null,
   "id": "31431e87",
   "metadata": {},
   "outputs": [],
   "source": []
  },
  {
   "cell_type": "markdown",
   "id": "377c6d05",
   "metadata": {},
   "source": [
    "Auch für mehrdimensionale Arrays funktioniert das simultane Ansprechen mehrerer Einträge mittels der `:` Notation. Erzeugen Sie ein zweidimensionales Array mit 4 Spalten und 3 Zeilen und zufälligen Einträgen und geben Sie anschließend den $2 \\times 2$ Ausschnitt in der oberen linken, sowie der unteren rechten Ecke aus. Geben Sie auch die zweite Zeile und die erste Spalte aus (Tipp: Anstelle von `1:end` können Sie auch nur `:` schreiben)."
   ]
  },
  {
   "cell_type": "code",
   "execution_count": null,
   "id": "b29f7633",
   "metadata": {},
   "outputs": [],
   "source": []
  },
  {
   "cell_type": "markdown",
   "id": "7cf22aa8",
   "metadata": {},
   "source": [
    "Definieren Sie zwei Matrizen $A$ und $B$ der Dimension $3\\times 3$ und $2 \\times 3$ mit zufälligen Einträgen. Berechnen Sie anschließend $A \\cdot B$, $B \\cdot A$ und $A + B$. Versuchen Sie die Fehlermeldungen zu verstehen."
   ]
  },
  {
   "cell_type": "code",
   "execution_count": null,
   "id": "f4d1b8b0",
   "metadata": {},
   "outputs": [],
   "source": []
  },
  {
   "cell_type": "markdown",
   "id": "4b3f0e4b",
   "metadata": {},
   "source": [
    "## f) Der `.`-Operator"
   ]
  },
  {
   "cell_type": "markdown",
   "id": "e1a34c75",
   "metadata": {},
   "source": [
    "Sehr nützlich beim Umgang mit Arrays ist der in der Vorlesung eingeführte `.` Operator, den man benutzt um eine Operation auf alle Elemente eines Array anzuwenden. Nutzen Sie den `.` Operator um jeden Eintrag des in der nächsten Zelle definierten Arrays `A` um 1 zu erhöhen. Das Ergebnis soll in einer neuen Variablen abgespeichert werden."
   ]
  },
  {
   "cell_type": "code",
   "execution_count": null,
   "id": "123d37fe",
   "metadata": {},
   "outputs": [],
   "source": [
    "A = [1 2 3; 4 5 6; 7 8 9]"
   ]
  },
  {
   "cell_type": "code",
   "execution_count": null,
   "id": "ae005c48",
   "metadata": {},
   "outputs": [],
   "source": []
  },
  {
   "cell_type": "markdown",
   "id": "8f87be35",
   "metadata": {},
   "source": [
    "Berechnen Sie `A * A`, `A .* A`, `A + A` und `A .+ A`. Vergleichen Sie jeweils die elementweise Operation mit der regulären Matrixoperationen."
   ]
  },
  {
   "cell_type": "code",
   "execution_count": null,
   "id": "178b6e94",
   "metadata": {},
   "outputs": [],
   "source": []
  },
  {
   "cell_type": "markdown",
   "id": "ec8af294",
   "metadata": {},
   "source": [
    "Kombinieren Sie ihr Wissen über `:` und `.` um in der Matrix `A` die Werte in der zweiten Spalte um eins zu erhöhen (d.h., sie sollen die Matrix `A` verändern, keine neue Variable definieren)."
   ]
  },
  {
   "cell_type": "code",
   "execution_count": null,
   "id": "dfe5f149",
   "metadata": {},
   "outputs": [],
   "source": []
  },
  {
   "cell_type": "markdown",
   "id": "d4be7ccb",
   "metadata": {},
   "source": [
    "Nutzen Sie die `.`-Syntax, um von jedem einzelnen Eintrag der Matrix `A` den $\\cos$ zu berechnen und das Ergebnis in einer neuen Matrix abzuspeichern."
   ]
  },
  {
   "cell_type": "code",
   "execution_count": null,
   "id": "acb45f52",
   "metadata": {},
   "outputs": [],
   "source": []
  },
  {
   "cell_type": "markdown",
   "id": "863af035",
   "metadata": {},
   "source": [
    "Erzeugen Sie zum Abschluss einen Vektor mit 200 zufälligen Einträgen und berechnen Sie für jeden einzelnen Eintrag die Funktion $\\exp(\\cos(x^2)) - 1$"
   ]
  },
  {
   "cell_type": "code",
   "execution_count": null,
   "id": "feaaa8fa",
   "metadata": {},
   "outputs": [],
   "source": []
  }
 ],
 "metadata": {
  "kernelspec": {
   "display_name": "Julia 1.8.5",
   "language": "julia",
   "name": "julia-1.8"
  },
  "language_info": {
   "file_extension": ".jl",
   "mimetype": "application/julia",
   "name": "julia",
   "version": "1.8.5"
  }
 },
 "nbformat": 4,
 "nbformat_minor": 5
}
