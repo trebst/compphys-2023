{
 "cells": [
  {
   "cell_type": "markdown",
   "id": "97e44f0a",
   "metadata": {},
   "source": [
    "<table style=\"width: 100%; border-style: none\">\n",
    "<tr style=\"border-style: none; background-color: #82a8cf\">\n",
    "<td style=\"border-style: none; width: 1%; text-align: left; font-size: 18px; color: #ffffff\">Institut f&uuml;r Theoretische Physik<br /> <font color=\"#e6e6e6\">Universit&auml;t zu K&ouml;ln </font></td>\n",
    "<td style=\"border-style: none; width: 1%; font-size: 16px\">&nbsp;</td>\n",
    "<td style=\"border-style: none; width: 1%; text-align: right; font-size: 18px; color: #ffffff\">Prof. Dr. Simon Trebst<br /> <font color=\"#e6e6e6\"> Christoph Berke </font> </td>\n",
    "</tr>\n",
    "</table>\n",
    "<hr  style=\"height: 2px; border-color: #606060; background-color: #606060\"> \n",
    "<h1 style=\"font-weight:200; text-align: center; margin: 0px; font-size: 48px; padding:0px; color: #606060\">Computer-Physik </h1>\n",
    "<h1 style=\"font-weight:light; text-align: center; margin: 10px; padding:0px; color: #606060\">&Uuml;bungsblatt 2</h1>\n",
    "<hr  style=\"height: 2px; border-color: #606060; background-color: #606060\"> \n",
    "<h3 style=\"font-weight:400; text-align: center; margin: 0px; font-size: 20px; padding:0px; margin-bottom: 20px; color: #606060\">Sommersemester 2023</h3>\n",
    "<!--<h3 style=\"font-weight:bold; text-align: center; margin: 0px; font-size: 15px; padding:0px; margin-bottom: 20px;\">Website: <a href=\"https://www.thp.uni-koeln.de/trebst/Lectures/2023-CompPhys.shtml\" style=\"color:#82a8cf; text-decoration: underline;text-decoration-style: dotted;\">https://www.thp.uni-koeln.de/trebst/Lectures/2023-CompPhys.shtml</a></h3> -->\n",
    "\n",
    "<font size=\"4\" color=\"#606060\">**Website:** <a href=\"https://www.thp.uni-koeln.de/trebst/Lectures/2023-CompPhys.shtml\" style=\"color:#82a8cf; text-decoration: underline;text-decoration-style: dotted;\">https://www.thp.uni-koeln.de/trebst/Lectures/2023-CompPhys.shtml</a></font>\n",
    "\n",
    "<font size=\"4\" color=\"#606060\">**Abgabe**: <span style=\"color:#82a8cf\"> keine Abgabe, Präsenzübung </span> <span style=\"float:right;\">**Besprechung**: 12.4.2023 - 14.4.2023.</span></font>\n",
    "\n",
    "<font size=\"4\" color=\"#606060\">**Name**: <span style=\"color:#82a8cf\"> Bitte geben Sie Ihren Namen an.  </span> </font>"
   ]
  },
  {
   "cell_type": "markdown",
   "id": "2afcb368",
   "metadata": {},
   "source": [
    "<hr style=\"height:.3px\"> \n",
    "\n",
    "<span style=\"color:#606060; font-weight:bold; font-size:20px\"> Aufgaben auf Übungsblatt 2</span>\n",
    "- <span style=\"color:#606060; font-weight:light; font-size:14px\"> Aufgabe 2: Von Kaninchen und Kühen [0 Punkte]</span>\n",
    "- <span style=\"color:#82a8cf; font-weight:bold; font-size:16px\"> Aufgabe 3: Alles über Primzahlen [0 Punkte] </span>\n",
    "\n",
    "<hr style=\"height:.3px\"> "
   ]
  },
  {
   "cell_type": "markdown",
   "id": "86fb108e",
   "metadata": {},
   "source": [
    "<table style=\"border-style: none; width: 100%; background-color: #FFFFFF\"><tr style=\"border-style: none;\">\n",
    "<td style=\"border-style: none; width:1%; text-align: left; font-size: 25px; font-weight: 200;background-color: #FFFFFF\">Aufgabe 3: Alles über Primzahlen </td>\n",
    "<td style=\"border-style: none; width: 1%; text-align: right; font-size: 15px;background-color: #FFFFFF\">[0 Punkte]</td></tr></table>"
   ]
  },
  {
   "cell_type": "markdown",
   "id": "b9d47683",
   "metadata": {},
   "source": [
    "In dieser Aufgabe sollen Sie Ihr Wissen über Verzweigungen und Schleifen benutzen, um ein Programm zu schreiben, dass überprüft, ob eine gegebene Zahl `N` eine **Primzahl** ist, also nur durch sich selbst und durch 1 ganzzahlig teilbar ist."
   ]
  },
  {
   "cell_type": "markdown",
   "id": "12c018c0",
   "metadata": {},
   "source": [
    "## a) Algorithmus für die Prüfung auf Primzahlen"
   ]
  },
  {
   "cell_type": "markdown",
   "id": "77c54a06",
   "metadata": {},
   "source": [
    "### Vorbereitungen\n",
    "Da es selten eine gute Idee ist, sofort mit dem Programmieren zu starten und die genaue Programmstruktur \"on the fly\" zu entwickeln, sollen Sie sich zunächst überlegen und in Worten beschreiben, wie die Prüfung ob `N` eine Primzahl ist, abläuft."
   ]
  },
  {
   "cell_type": "markdown",
   "id": "97a5ec37",
   "metadata": {},
   "source": []
  },
  {
   "cell_type": "markdown",
   "id": "5dfa1328",
   "metadata": {},
   "source": [
    "Überlegen Sie sich anschließend, mit welchen Programmierkonzepten Sie die einzelnen Teile umsetzen können.\n",
    "\n",
    "Hinweis: Um auf ganzzahlige Teilbarkeit zu überprüfen, können sie z.B. die Funktion `rem`, die Sie auf dem ersten Blatt kennengelernt haben, benutzen."
   ]
  },
  {
   "cell_type": "markdown",
   "id": "70c11a8e",
   "metadata": {},
   "source": []
  },
  {
   "cell_type": "markdown",
   "id": "a836b218",
   "metadata": {},
   "source": [
    "### Implementierung"
   ]
  },
  {
   "cell_type": "markdown",
   "id": "8c97879a",
   "metadata": {},
   "source": [
    "Implementieren Sie jetzt die Prüfung auf Primzahlen, in dem Sie ein Julia-Programm gemäß Ihren obigen Überlegungen schreiben. \n",
    "\n",
    "Tipp: Sie können zum Beispiel zu Beginn ihres Programms eine Variable vom Typ `Bool` definieren, etwa `isprime = true`. Variablen vom Typ `Bool` können nur einen von zwei Werten annehmen, entweder wahr (`true`) oder falsch (`false`). Führen Sie dann die Prüfung auf Teilbarkeit durch, und ändern Sie den Wert von `isprime` von `true` auf `false`, wenn Sie einen Teiler finden.\n",
    "\n",
    "Testen Sie ihr Programm für verschiedene Werte von `N`, etwa 701 und 997."
   ]
  },
  {
   "cell_type": "code",
   "execution_count": null,
   "id": "ec7a890c",
   "metadata": {},
   "outputs": [],
   "source": [
    "N = 997 # Beispielzahl, die überprüft werden soll.\n",
    "\n",
    "isprime = true # Variable, die am Ende des Programms den Wert true (false) haben soll, falls N eine (keine) Primzahl ist\n",
    "\n",
    "# Ihr Code \n",
    "\n",
    "println(N, \" ist eine Primzahl? \", isprime)"
   ]
  },
  {
   "cell_type": "markdown",
   "id": "4dce01d7",
   "metadata": {},
   "source": [
    "## b) Alle Primzahlen, die kleiner sind als 1000\n",
    "\n",
    "Erweitern Sie Ihren Julia Code um *alle* Primzahlen, die kleiner sind als 1000 zu finden und auszugeben.\n",
    "\n",
    "Hinweis: Sie können ihr obiges Programm wiederverwenden. Sie brauchen dazu noch eine weitere `for`-Schleife (um die Zahl `N` von 2 bis 1000 variieren zu können), sowie eine weitere `if`-Abfrage (um die Ausgabe auf die Primzahlen zu beschränken)."
   ]
  },
  {
   "cell_type": "code",
   "execution_count": null,
   "id": "2205b054",
   "metadata": {},
   "outputs": [],
   "source": []
  },
  {
   "cell_type": "markdown",
   "id": "39d8d98c",
   "metadata": {},
   "source": [
    "Modifizieren Sie Ihr Programm jetzt so, dass Sie anstelle der Ausgabe aller Primzahlen alle Primzahlen in einem Array speichern.\n",
    "\n",
    "Hinweis: Sie können mittels `alleprimzahlen = []` ein *leeres* Array erzeugen, dem Sie mit der Ihnen bereits vertrauten Funktion `push!(alleprimzahlen, primzahl)` die Zahl `primzahl` hinzufügen können. "
   ]
  },
  {
   "cell_type": "code",
   "execution_count": null,
   "id": "df5ca57c",
   "metadata": {},
   "outputs": [],
   "source": []
  },
  {
   "cell_type": "markdown",
   "id": "f15d864a",
   "metadata": {},
   "source": [
    "<span style=\"color:#82a8cf; font-weight:bold; font-size:16px\"> Diese Aufgabe wird auf Übungsblatt 2 in Aufgabe 4 (Alles über Primzahlen, Teil II) fortgesetzt. </span>"
   ]
  }
 ],
 "metadata": {
  "kernelspec": {
   "display_name": "Julia 1.8.5",
   "language": "julia",
   "name": "julia-1.8"
  },
  "language_info": {
   "file_extension": ".jl",
   "mimetype": "application/julia",
   "name": "julia",
   "version": "1.8.5"
  }
 },
 "nbformat": 4,
 "nbformat_minor": 5
}
