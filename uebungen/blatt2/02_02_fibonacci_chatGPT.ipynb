{
 "cells": [
  {
   "cell_type": "markdown",
   "id": "97e44f0a",
   "metadata": {},
   "source": [
    "<table style=\"width: 100%; border-style: none\">\n",
    "<tr style=\"border-style: none; background-color: #82a8cf\">\n",
    "<td style=\"border-style: none; width: 1%; text-align: left; font-size: 18px; color: #ffffff\">Institut f&uuml;r Theoretische Physik<br /> <font color=\"#e6e6e6\">Universit&auml;t zu K&ouml;ln </font></td>\n",
    "<td style=\"border-style: none; width: 1%; font-size: 16px\">&nbsp;</td>\n",
    "<td style=\"border-style: none; width: 1%; text-align: right; font-size: 18px; color: #ffffff\">Prof. Dr. Simon Trebst<br /> <font color=\"#e6e6e6\"> Christoph Berke </font> </td>\n",
    "</tr>\n",
    "</table>\n",
    "<hr  style=\"height: 2px; border-color: #606060; background-color: #606060\"> \n",
    "<h1 style=\"font-weight:200; text-align: center; margin: 0px; font-size: 48px; padding:0px; color: #606060\">Computer-Physik </h1>\n",
    "<h1 style=\"font-weight:light; text-align: center; margin: 10px; padding:0px; color: #606060\">&Uuml;bungsblatt 2</h1>\n",
    "<hr  style=\"height: 2px; border-color: #606060; background-color: #606060\"> \n",
    "<h3 style=\"font-weight:400; text-align: center; margin: 0px; font-size: 20px; padding:0px; margin-bottom: 20px; color: #606060\">Sommersemester 2023</h3>\n",
    "<!--<h3 style=\"font-weight:bold; text-align: center; margin: 0px; font-size: 15px; padding:0px; margin-bottom: 20px;\">Website: <a href=\"https://www.thp.uni-koeln.de/trebst/Lectures/2023-CompPhys.shtml\" style=\"color:#82a8cf; text-decoration: underline;text-decoration-style: dotted;\">https://www.thp.uni-koeln.de/trebst/Lectures/2023-CompPhys.shtml</a></h3> -->\n",
    "\n",
    "<font size=\"4\" color=\"#606060\">**Website:** <a href=\"https://www.thp.uni-koeln.de/trebst/Lectures/2023-CompPhys.shtml\" style=\"color:#82a8cf; text-decoration: underline;text-decoration-style: dotted;\">https://www.thp.uni-koeln.de/trebst/Lectures/2023-CompPhys.shtml</a></font>\n",
    "\n",
    "<font size=\"4\" color=\"#606060\">**Abgabe**: <span style=\"color:#82a8cf\"> keine Abgabe, Präsenzübung </span> <span style=\"float:right;\">**Besprechung**: 12.4.2023 - 14.4.2023.</span></font>\n",
    "\n",
    "<font size=\"4\" color=\"#606060\">**Name**: <span style=\"color:#82a8cf\"> Bitte geben Sie Ihren Namen an.  </span> </font>"
   ]
  },
  {
   "cell_type": "markdown",
   "id": "2afcb368",
   "metadata": {},
   "source": [
    "<hr style=\"height:.3px\"> \n",
    "\n",
    "<span style=\"color:#606060; font-weight:bold; font-size:20px\"> Aufgaben auf Übungsblatt 2</span>\n",
    "- <span style=\"color:#82a8cf; font-weight:bold; font-size:16px\"> Aufgabe 2: Von Kaninchen und Kühen [0 Punkte] </span>\n",
    "- <span style=\"color:#606060; font-weight:light; font-size:14px\"> Aufgabe 3: Alles über Primzahlen [0 Punkte]</span>\n",
    "\n",
    "<hr style=\"height:.3px\"> "
   ]
  },
  {
   "cell_type": "markdown",
   "id": "86fb108e",
   "metadata": {},
   "source": [
    "<table style=\"border-style: none; width: 100%; background-color: #FFFFFF\"><tr style=\"border-style: none;\">\n",
    "<td style=\"border-style: none; width:1%; text-align: left; font-size: 25px; font-weight: 200;background-color: #FFFFFF\">Aufgabe 2: Von Kaninchen und Kühen </td>\n",
    "<td style=\"border-style: none; width: 1%; text-align: right; font-size: 15px;background-color: #FFFFFF\">[0 Punkte]</td></tr></table>"
   ]
  },
  {
   "cell_type": "markdown",
   "id": "b9d47683",
   "metadata": {},
   "source": [
    "In der Vorlesung haben Sie bis jetzt die Konzepte **Ausgaben**, **Variablen**, **Arrays**, **Schleifen**, **Verzweigungen** und **Funktionen** besprochen. Zusammen mit der Fähigkeit, ihre gewonnen Daten in aussagekräftigen Abbildungen zu visualisieren (wir kommen darauf noch ausführlich zurück), steht Ihnen hiermit ein komplettes Programmiergrundgerüst zur Verfügung. Alle Übungsaufgaben, die Sie im Laufe des Semesters erwarten, bestehen aus Anwendungen von Kombinationen dieser Konzepte. Wir starten das Blatt deshalb mit einer Wiederholung. "
   ]
  },
  {
   "cell_type": "markdown",
   "id": "baaf8367",
   "metadata": {},
   "source": [
    "### a) Wiederholung der Vorlesung: `range`, `for`, `while`, `if` und Funktionen."
   ]
  },
  {
   "cell_type": "markdown",
   "id": "2e36f5d1",
   "metadata": {},
   "source": [
    "In der Vorlesung \"Programmiertechniken 2\" haben Sie **Schleifen, Verzweigungen** und **Funktionen** kennengelernt. Außerdem wurde die Funktion `range` vorgestellt, die nützlich ist, um gleichmäßig verteilte Zahlen zu erzeugen. Wiederholen Sie diese Konzepte. \n",
    "\n",
    "#### Die `range`-Funktion:\n",
    "\n",
    "Erzeugen Sie\n",
    "- ein Array mit 100 gleichmäßig verteilten Werten zwischen 1 und 20,\n",
    "- ein Array mit Schrittweite 0.3, das bei 1 startet und 13 Einträge enthält,\n",
    "- ein Array aus den ganzen Zahlen von 1 bis 100"
   ]
  },
  {
   "cell_type": "code",
   "execution_count": null,
   "id": "0e47d1e7",
   "metadata": {},
   "outputs": [],
   "source": []
  },
  {
   "cell_type": "markdown",
   "id": "03971297",
   "metadata": {},
   "source": [
    "#### `for`-Schleifen:\n",
    "Benutzen Sie eine `for`-Schleife, um für jeden Eintrag des in der nächsten Zeile definierten Arrays `A` die Funktion $\\cos$ zu berechnen und in einem neuen Array zu speichern. Wäre das auch einfacher gegangen?"
   ]
  },
  {
   "cell_type": "code",
   "execution_count": null,
   "id": "f219818e",
   "metadata": {},
   "outputs": [],
   "source": [
    "A = collect(1:100);"
   ]
  },
  {
   "cell_type": "code",
   "execution_count": null,
   "id": "f0a8dadc",
   "metadata": {},
   "outputs": [],
   "source": []
  },
  {
   "cell_type": "markdown",
   "id": "b620ac8f",
   "metadata": {},
   "source": [
    "#### `if`-Abfragen:\n",
    "Kombinieren Sie eine `for`-Schleife und eine `if`-Abfrage, um alle geraden Zahlen des Arrays `A` auszugeben. Um zu überprüfen ob eine Zahl gerade ist, können Sie die Funktion `iseven` benutzen. Konsultieren Sie ggf. `?`."
   ]
  },
  {
   "cell_type": "code",
   "execution_count": null,
   "id": "3ae631ce",
   "metadata": {},
   "outputs": [],
   "source": []
  },
  {
   "cell_type": "markdown",
   "id": "d0c32329",
   "metadata": {},
   "source": [
    "#### `while`-Schleifen:\n",
    "Benutzen Sie eine `while` Schleife um die nachfolgend definierte Variable `i` in jedem Durchlauf zu verdoppeln und auszugeben, solange `i` kleiner ist als 1025."
   ]
  },
  {
   "cell_type": "code",
   "execution_count": null,
   "id": "9952ed0b",
   "metadata": {},
   "outputs": [],
   "source": [
    "i = 1\n",
    "# Ihr Code"
   ]
  },
  {
   "cell_type": "markdown",
   "id": "289e2b41",
   "metadata": {},
   "source": [
    "#### Funktionen:\n",
    "Programmieren und testen Sie die folgenden Funktionen\n",
    "- Eine Funktion `quadrat`, der Sie **eine** Variable übergeben können, die diese Variable quadriert und das Ergebnis zurückgibt.\n",
    "- Eine Funktion `addtwonumbers`, die **zwei** Variable akzeptiert und die Summe der beiden Variablen zurückgibt.\n",
    "- Eine Funktion `settozero!`, der Sie ein Array übergeben können, deren erstes und letztes Element dann auf 0 gesetzt wird."
   ]
  },
  {
   "cell_type": "code",
   "execution_count": null,
   "id": "0bd44bf0",
   "metadata": {},
   "outputs": [],
   "source": []
  },
  {
   "cell_type": "code",
   "execution_count": null,
   "id": "5c391d85",
   "metadata": {},
   "outputs": [],
   "source": []
  },
  {
   "cell_type": "code",
   "execution_count": null,
   "id": "6670c8c1",
   "metadata": {},
   "outputs": [],
   "source": []
  },
  {
   "cell_type": "markdown",
   "id": "2d01fe11",
   "metadata": {},
   "source": [
    "### b) Fibonacci-Zahlen via ChatGPT\n",
    "\n",
    "Ein nicht unwesentlicher Teil von Programmierprojekten besteht darin, das Internet nach Fehlermeldungen und potentiellen Lösungen zu durchforsten und in Foren nach Hilfe zu suchen und dort gefundene Programmschnipsel zu kopieren und an die eigenen Bedürfnisse anzupassen (hier verdient die Seite https://stackoverflow.com/ besondere Erwähnung). Viel Aufmerksamkeit und Kontroversen hat in den letzten Monaten die Software ChatGPT erzeugt. Es ist nicht unwahrscheinlich dass sich solche auf maschinellem Lernen basierende Sprachmodelle als ernstzunehmendes Hilfswerkzeug für (angehende) Programmierer etablieren. In dieser Teilaufgabe sollen Sie deshalb gemeinsam mit Ihrem Tutor die Möglichkeiten und Grenzen von ChatGPT als \"Schummelwerkzeug\" in der Computer-Physik erkunden. Als Beispiel dient uns die folgende Aufgabenstellung:\n",
    "\n",
    "Die **Fibonacci-Zahlen** sind definiert als die Folge der Zahlen $\\{F_n \\}$, $n \\in \\mathbb{N}$, die folgende Relation erfüllt:\n",
    "\\begin{align}\n",
    "    F_1 &= 1, \\\\\n",
    "    F_2 &= 1, \\\\\n",
    "    F_n &= F_{n - 1} + F_{n - 2} \\text{   für   } n>2\n",
    "\\end{align}\n",
    "\n",
    "Schreiben Sie einen Julia Code, der die ersten 15 Fibonacci-Zahlen berechnet und ausgibt."
   ]
  },
  {
   "cell_type": "code",
   "execution_count": null,
   "id": "18471a5f",
   "metadata": {},
   "outputs": [],
   "source": [
    "... siehe ChatGPT Demonstration in der Übung."
   ]
  },
  {
   "cell_type": "markdown",
   "id": "05179fa3",
   "metadata": {},
   "source": [
    "Der nachfolgende Code wurde von ChatGPT geschrieben und kommentiert. \n",
    "Lesen Sie sich das Programm sorgfältig durch und vollziehen Sie alle Schritte nach. Tipp: Wenn Sie Schwierigkeiten haben, das Programm zu verstehen, dann hilft es, sich die Werte der Variablen `i,a,b,c` zu jedem Zeitpunkt des Programms aufzuschreiben."
   ]
  },
  {
   "cell_type": "code",
   "execution_count": null,
   "id": "87e7e958",
   "metadata": {},
   "outputs": [],
   "source": [
    "# Initialize the first two Fibonacci numbers\n",
    "a = 1\n",
    "b = 1\n",
    "\n",
    "# Print the first two Fibonacci numbers\n",
    "println(a)\n",
    "println(b)\n",
    "\n",
    "# Loop over the remaining Fibonacci numbers\n",
    "for i in 3:15\n",
    "    # Calculate the next Fibonacci number as the sum of the previous two\n",
    "    c = a + b\n",
    "    # Print the next Fibonacci number\n",
    "    println(c)\n",
    "    # Update a and b to the next two Fibonacci numbers\n",
    "    a = b\n",
    "    b = c\n",
    "end"
   ]
  },
  {
   "cell_type": "markdown",
   "id": "8a6624c2",
   "metadata": {},
   "source": [
    "Schreiben Sie das Programm jetzt so um, dass die Fibonacci-Zahlen in einem Vektor gespeichert werden.\n",
    "Hinweis: Sie brauchen in der `for`-Schleife dann lediglich eine einzige Zeile.\n",
    "Berechnen Sie die ersten 50 Fibonacci-Zahlen. Zu welchem Wert konvergiert das Verhältnis $F_{n+1}/F_n$?"
   ]
  },
  {
   "cell_type": "code",
   "execution_count": null,
   "id": "2bbe204f",
   "metadata": {},
   "outputs": [],
   "source": []
  },
  {
   "cell_type": "code",
   "execution_count": null,
   "id": "972fbef0",
   "metadata": {},
   "outputs": [],
   "source": []
  },
  {
   "cell_type": "markdown",
   "id": "5424d4fe",
   "metadata": {},
   "source": [
    "###  c) Nayarana's Cow"
   ]
  },
  {
   "cell_type": "markdown",
   "id": "0016b009",
   "metadata": {},
   "source": [
    "Populär wurde die Fibonacci-Folge durch die Arbeiten des gleichnamigen Mathematikers (Vorname Leonardo). Fibonacci betrachtete ein (sehr unrealistisches) Modell zum Wachstum einer Kaninchenpopulation, bei dem jedes Kaninchenpaar (i) unsterblich ist (ii) jeden Monat ein neues Kaninchenpaar hervorbringt, und (iii) alle Paare im Alter von einem Monat fortpflanzungsfähig sind. Die Fertilität von Kühen ist im Vergleich dazu wesentlich geringer. Der indische Mathematiker Narayana Pandita betrachtete etwa 150 Jahre nach Fibonacci die Entwicklung einer Kuhpopulation, bei der jede Kuh, beginnend in ihrem vierten Lebensjahr, jedes Jahr ein Kalb bekommt (Stiere tauchen in Narayanas Betrachtung seltsamerweise nicht auf). Analog zu der Fibonacci-Folge überlegt man sich (Zusatzaufgabe: Überlegen Sie sich das), dass die Kuhpopulation im Jahr $n$ deshalb durch die folgende Vorschrift zu berechnen ist:\n",
    "\n",
    "\\begin{align}\n",
    "    C_1 &= 1, \\\\\n",
    "    C_2 &= 1, \\\\\n",
    "    C_3 &= 1, \\\\\n",
    "    C_n &= C_{n - 1} + C_{n - 3} \\text{   für   } n>3\n",
    "\\end{align}\n",
    "\n",
    "Die Zahlenfolge $\\{ C_n \\}$ heißt **Nayarana's Cows**. Schreiben Sie einen Julia Code, der die ersten 50 Zahlen von Nayarana's Cow berechnet und ausgibt. Berechnen Sie auch das Verhältnis $C_{n+1}/C_n$."
   ]
  },
  {
   "cell_type": "code",
   "execution_count": null,
   "id": "314e511a",
   "metadata": {},
   "outputs": [],
   "source": []
  },
  {
   "cell_type": "code",
   "execution_count": null,
   "id": "d5f21f68",
   "metadata": {},
   "outputs": [],
   "source": []
  },
  {
   "cell_type": "markdown",
   "id": "469f8bb9",
   "metadata": {},
   "source": [
    "Je nach persönlichen Vorlieben mag das <a href=\"https://www.youtube.com/watch?v=WmUpQpda6cw\" style=\"color:#82a8cf; text-decoration: underline;text-decoration-style: dotted;\">ungewöhnliche Stück \"Nayarana's Cows\"</a> , eine musikalische Nacherzählung der Kuhpopulationentwicklung, nach Ihrem Geschmack sein. Es ist zumindest sehr ausgefallen."
   ]
  }
 ],
 "metadata": {
  "kernelspec": {
   "display_name": "Julia 1.8.5",
   "language": "julia",
   "name": "julia-1.8"
  },
  "language_info": {
   "file_extension": ".jl",
   "mimetype": "application/julia",
   "name": "julia",
   "version": "1.8.5"
  }
 },
 "nbformat": 4,
 "nbformat_minor": 5
}
